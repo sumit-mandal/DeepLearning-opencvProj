{
 "cells": [
  {
   "cell_type": "markdown",
   "metadata": {},
   "source": [
    "# Shape Matching\n",
    "cv2.matchShapes(contour template, contour, method, method parameter)\n",
    "\n",
    "#### Output – match value (lower values means a closer match)\n",
    "\n",
    "###### Contour Template – This is our reference contour that we’re trying to find in the new image\n",
    "###### Contour – The individual contour we are checking against\n",
    "###### Method – Type of contour matching (1, 2, 3)\n",
    "###### Method Parameter – leave alone as 0.0 (not fully utilized in python OpenCV)"
   ]
  },
  {
   "cell_type": "code",
   "execution_count": 7,
   "metadata": {},
   "outputs": [
    {
     "ename": "SyntaxError",
     "evalue": "invalid syntax (<ipython-input-7-c3b2eccc87c3>, line 42)",
     "output_type": "error",
     "traceback": [
      "\u001b[1;36m  File \u001b[1;32m\"<ipython-input-7-c3b2eccc87c3>\"\u001b[1;36m, line \u001b[1;32m42\u001b[0m\n\u001b[1;33m    cv2.drawContours(target, [,closest_contour], -1, (0,255,0), 3)\u001b[0m\n\u001b[1;37m                              ^\u001b[0m\n\u001b[1;31mSyntaxError\u001b[0m\u001b[1;31m:\u001b[0m invalid syntax\n"
     ]
    }
   ],
   "source": [
    "import cv2\n",
    "import numpy as np\n",
    "\n",
    "#load the reference image\n",
    "template = cv2.imread('images/4star.jpg',0)\n",
    "cv2.imshow('Template',template)\n",
    "cv2.waitKey()\n",
    "\n",
    "#Load the target image with the shapes we're trying to match\n",
    "target = cv2.imread('images/shapestomatch.jpg')\n",
    "target_gray = cv2.cvtColor(target,cv2.COLOR_BGR2GRAY)\n",
    "\n",
    "#Threshold both imaagees first,before using cv2.findContours\n",
    "ret,thresh1 = cv2.threshold(template,127,255,0)\n",
    "ret,thresh2 = cv2.threshold(target_gray,127,255,0)\n",
    "\n",
    "#Find Contours in template\n",
    "contours,hierarchy = cv2.findContours(thresh1,cv2.RETR_CCOMP,cv2.CHAIN_APPROX_SIMPLE) \n",
    "\n",
    "# We need to sort the contours by area so that we can remove the largest contour which is the image outline\n",
    "\n",
    "sorted_contours = sorted(contours,key = cv2.contourArea,reverse = True)\n",
    "\n",
    "# We extract the second largest contour which will be our template contour\n",
    "template_contour = contours[1] #our largest contour is boundary of square itself.\n",
    "\n",
    "#Extract contours from second target image\n",
    "contours,hierarchy = cv2.findContours(thresh2,cv2.RETR_CCOMP,cv2.CHAIN_APPROX_SIMPLE)\n",
    "\n",
    "for c in contours:\n",
    "    # Iterate through each contour in the target image and \n",
    "    # use cv2.matchShapes to compare contour shapes\n",
    "    match = cv2.matchShapes(template_contour,c,3,0.0)\n",
    "    print(match)\n",
    "    # If the match value is less than 0.15 we\n",
    "    if match < 0.15:\n",
    "        closest_contour = c\n",
    "    else:\n",
    "        closest_contour = []\n",
    "        \n",
    "    \n",
    "cv2.drawContours(target, [closest_contour], -1, (0,255,0), 3)\n",
    "cv2.imshow('Output', target)\n",
    "cv2.waitKey()  \n",
    "\n",
    "\n",
    "\n",
    "\n",
    "\n",
    "cv2.destroyAllWindows()"
   ]
  },
  {
   "cell_type": "code",
   "execution_count": null,
   "metadata": {},
   "outputs": [],
   "source": [
    "!git add Contours_matching_shape.ipynb\n",
    "!git commit -m \"18:06/24-04-2021\"\n",
    "!git push origin main"
   ]
  },
  {
   "cell_type": "code",
   "execution_count": null,
   "metadata": {},
   "outputs": [],
   "source": []
  }
 ],
 "metadata": {
  "kernelspec": {
   "display_name": "Python [conda env:cv] *",
   "language": "python",
   "name": "conda-env-cv-py"
  },
  "language_info": {
   "codemirror_mode": {
    "name": "ipython",
    "version": 3
   },
   "file_extension": ".py",
   "mimetype": "text/x-python",
   "name": "python",
   "nbconvert_exporter": "python",
   "pygments_lexer": "ipython3",
   "version": "3.8.5"
  }
 },
 "nbformat": 4,
 "nbformat_minor": 4
}
