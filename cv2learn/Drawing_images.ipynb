{
 "cells": [
  {
   "cell_type": "code",
   "execution_count": 7,
   "metadata": {},
   "outputs": [],
   "source": [
    "import cv2\n",
    "import numpy as np\n",
    "\n",
    "#create a black image\n",
    "image = np.zeros((512,512,3),np.uint8)\n",
    "\n",
    "#making this black and white\n",
    "image_bw = np.zeros((512,512),np.uint8)\n",
    "\n",
    "cv2.imshow(\"Black Rectangle (color)\",image)\n",
    "cv2.imshow(\"Black rectangle (B&W)\",image_bw)\n",
    "\n",
    "cv2.waitKey()\n",
    "cv2.destroyAllWindows()"
   ]
  },
  {
   "cell_type": "markdown",
   "metadata": {},
   "source": [
    "# Drawing line over our black square\n"
   ]
  },
  {
   "cell_type": "markdown",
   "metadata": {},
   "source": [
    "######  cv2.line(image,starting coordinates,ending coordinates,color,thickness)"
   ]
  },
  {
   "cell_type": "code",
   "execution_count": 13,
   "metadata": {},
   "outputs": [],
   "source": [
    "#draw a diagonal blu line of thhickness of 5 pixel\n",
    "image = np.zeros((512,512,3), np.uint8)\n",
    "\n",
    "cv2.line(image,(0,0),(511,511),(255,127,0),5)\n",
    "cv2.imshow(\"Blue Line\",image)\n",
    "cv2.waitKey()\n",
    "cv2.destroyAllWindows()"
   ]
  },
  {
   "cell_type": "markdown",
   "metadata": {},
   "source": [
    "# Drawing rectangle\n",
    "\n",
    "######  cv2.line(image,startingvertex,opposite vertex,color,thickness)"
   ]
  },
  {
   "cell_type": "code",
   "execution_count": 15,
   "metadata": {},
   "outputs": [],
   "source": [
    "image = np.zeros((512,512,3), np.uint8)\n",
    "\n",
    "cv2.rectangle(image,(100,100),(300,250),(127,50,127),5)\n",
    "cv2.imshow(\"Rectangle\",image)\n",
    "cv2.waitKey()\n",
    "cv2.destroyAllWindows()"
   ]
  },
  {
   "cell_type": "markdown",
   "metadata": {},
   "source": [
    "# Drwaing Circles  \n",
    "##### cv2.circle(imag,center,radius,colour,fill)\n",
    "\n"
   ]
  },
  {
   "cell_type": "code",
   "execution_count": 20,
   "metadata": {},
   "outputs": [],
   "source": [
    "image = np.zeros((512,512,3), np.uint8)\n",
    "\n",
    "cv2.circle(image,(350,350),100,(15,75,50),-1)\n",
    "cv2.imshow(\"Circle\",image)\n",
    "cv2.waitKey()\n",
    "cv2.destroyAllWindows()"
   ]
  },
  {
   "cell_type": "markdown",
   "metadata": {},
   "source": [
    "# Drawing Polygon\n"
   ]
  },
  {
   "cell_type": "code",
   "execution_count": 22,
   "metadata": {},
   "outputs": [],
   "source": [
    "image = np.zeros((512,512,3),np.uint8)\n",
    "\n",
    "#Let's define four points\n",
    "pts = np.array([[10,50],[400,50],[90,200],[50,500]],np.int32)\n",
    "\n",
    "#reshaping our points in form required by polygons\n",
    "pts = pts.reshape((-1,1,2))\n",
    "\n",
    "cv2.polylines(image,[pts],True,(0,0,255),3)\n",
    "cv2.imshow(\"Polygon\",image)\n",
    "cv2.waitKey()\n",
    "cv2.destroyAllWindows()\n"
   ]
  },
  {
   "cell_type": "markdown",
   "metadata": {},
   "source": [
    "# Let's even add text with cv2.putText\n",
    "### cv2.putText(image, 'Text to Display', bottom left starting point, Font, Font Size, Color, Thickness)"
   ]
  },
  {
   "cell_type": "code",
   "execution_count": 23,
   "metadata": {},
   "outputs": [],
   "source": [
    "\n",
    "image = np.zeros((512,512,3), np.uint8)\n",
    "\n",
    "cv2.putText(image, 'Hello World!', (75,290), cv2.FONT_HERSHEY_COMPLEX, 2, (100,170,0), 3)\n",
    "cv2.imshow(\"Hello World!\", image)\n",
    "cv2.waitKey(0)\n",
    "cv2.destroyAllWindows()"
   ]
  },
  {
   "cell_type": "code",
   "execution_count": 24,
   "metadata": {},
   "outputs": [
    {
     "name": "stderr",
     "output_type": "stream",
     "text": [
      "warning: LF will be replaced by CRLF in cv2learn/Drawing_images.ipynb.\n",
      "The file will have its original line endings in your working directory\n"
     ]
    }
   ],
   "source": [
    "!git add Drawing_images.ipynb"
   ]
  },
  {
   "cell_type": "code",
   "execution_count": 25,
   "metadata": {},
   "outputs": [
    {
     "name": "stdout",
     "output_type": "stream",
     "text": [
      "[main 7c439ab] 19:18/22-04-2021\n",
      " 1 file changed, 164 insertions(+)\n",
      " create mode 100644 cv2learn/Drawing_images.ipynb\n"
     ]
    }
   ],
   "source": [
    "!git commit -m \"19:18/22-04-2021\""
   ]
  },
  {
   "cell_type": "code",
   "execution_count": 26,
   "metadata": {},
   "outputs": [
    {
     "name": "stderr",
     "output_type": "stream",
     "text": [
      "To https://github.com/sumit-mandal/OpenCVtut.git\n",
      "   53a8bba..7c439ab  main -> main\n"
     ]
    }
   ],
   "source": [
    "!git push origin main"
   ]
  },
  {
   "cell_type": "code",
   "execution_count": null,
   "metadata": {},
   "outputs": [],
   "source": []
  }
 ],
 "metadata": {
  "kernelspec": {
   "display_name": "Python [conda env:cv] *",
   "language": "python",
   "name": "conda-env-cv-py"
  },
  "language_info": {
   "codemirror_mode": {
    "name": "ipython",
    "version": 3
   },
   "file_extension": ".py",
   "mimetype": "text/x-python",
   "name": "python",
   "nbconvert_exporter": "python",
   "pygments_lexer": "ipython3",
   "version": "3.8.5"
  }
 },
 "nbformat": 4,
 "nbformat_minor": 4
}
