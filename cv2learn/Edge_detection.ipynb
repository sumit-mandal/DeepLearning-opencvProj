{
 "cells": [
  {
   "cell_type": "markdown",
   "metadata": {},
   "source": [
    "### Edge Detection & Image Gradiennt"
   ]
  },
  {
   "cell_type": "code",
   "execution_count": 4,
   "metadata": {},
   "outputs": [],
   "source": [
    "import cv2\n",
    "import numpy as np\n",
    "\n",
    "image = cv2.imread('images/input.jpg',0)\n",
    "\n",
    "#Extract sobel edges\n",
    "sobel_x = cv2.Sobel(image,cv2.CV_64F,0,1,ksize=5)\n",
    "sobel_y = cv2.Sobel(image,cv2.CV_64F,1,0,ksize=5)\n",
    "\n",
    "cv2.imshow('Original',image)\n",
    "cv2.waitKey()\n",
    "cv2.imshow('Sobel X',sobel_x)\n",
    "cv2.waitKey()\n",
    "cv2.imshow('Sobel Y',sobel_y)\n",
    "cv2.waitKey()\n",
    "\n",
    "sobel_OR = cv2.bitwise_or(sobel_x, sobel_y)\n",
    "cv2.imshow('sobel_OR', sobel_OR)\n",
    "cv2.waitKey(0)\n",
    "\n",
    "#Laplacian\n",
    "laplacian = cv2.Laplacian(image,cv2.CV_64F)\n",
    "cv2.imshow('Laplacian',laplacian)\n",
    "cv2.waitKey()\n",
    "\n",
    "\n",
    "##  Then, we need to provide two values: threshold1 and threshold2. Any gradient value larger than threshold2\n",
    "# is considered to be an edge. Any value below threshold1 is considered not to be an edge. \n",
    "#Values in between threshold1 and threshold2 are either classiﬁed as edges or non-edges based on how their \n",
    "#intensities are “connected”. In this case, any gradient values below 60 are considered non-edges\n",
    "#whereas any values above 120 are considered edges.\n",
    "\n",
    "\n",
    "# Canny Edge Detection uses gradient values as thresholds\n",
    "# The first threshold gradient\n",
    "\n",
    "canny = cv2.Canny(image,20,170)\n",
    "cv2.imshow('Canny',canny)\n",
    "cv2.waitKey(0)\n",
    "#Canny(image, threshold1, threshold2[, edges[, apertureSize[, L2gradient]]])\n",
    "cv2.destroyAllWindows()"
   ]
  },
  {
   "cell_type": "code",
   "execution_count": 5,
   "metadata": {},
   "outputs": [
    {
     "name": "stderr",
     "output_type": "stream",
     "text": [
      "fatal: pathspec 'Edege_detection.ipynb' did not match any files\n"
     ]
    },
    {
     "name": "stdout",
     "output_type": "stream",
     "text": [
      "On branch main\n",
      "Your branch is up to date with 'origin/main'.\n",
      "\n",
      "Changes not staged for commit:\n",
      "  (use \"git add <file>...\" to update what will be committed)\n",
      "  (use \"git restore <file>...\" to discard changes in working directory)\n",
      "\tmodified:   Arithmetic_operation.ipynb\n",
      "\tmodified:   Bitwise_operation.ipynb\n",
      "\tmodified:   Blurring.ipynb\n",
      "\tmodified:   COLOR_SPACING.ipynb\n",
      "\tmodified:   Dialation_Erosion.ipynb\n",
      "\tmodified:   Drawing_images.ipynb\n",
      "\tmodified:   Grayscale.ipynb\n",
      "\tmodified:   Histogram.ipynb\n",
      "\tmodified:   Reading_writing_and_displaying_images.ipynb\n",
      "\tmodified:   Scaling_resizing.ipynb\n",
      "\tmodified:   Thresholding.ipynb\n",
      "\tmodified:   cropping.ipynb\n",
      "\tmodified:   pyramid.ipynb\n",
      "\tmodified:   rotation.ipynb\n",
      "\tmodified:   sharpening.ipynb\n",
      "\tmodified:   translation.ipynb\n",
      "\n",
      "Untracked files:\n",
      "  (use \"git add <file>...\" to include in what will be committed)\n",
      "\t../.ipynb_checkpoints/\n",
      "\t../.virtual_documents/\n",
      "\t../Master OpenCV/\n",
      "\t../Untitled.ipynb\n",
      "\t.ipynb_checkpoints/\n",
      "\tEdge_detection.ipynb\n",
      "\tUntitled.ipynb\n",
      "\t../kite_tutorial-checkpoint.ipynb\n",
      "\t../kite_tutorial.ipynb\n",
      "\n",
      "no changes added to commit (use \"git add\" and/or \"git commit -a\")\n"
     ]
    },
    {
     "name": "stderr",
     "output_type": "stream",
     "text": [
      "Everything up-to-date\n"
     ]
    }
   ],
   "source": [
    "!git add Edge_detection.ipynb\n",
    "\n",
    "!git commit -m \"18:24/23-04-2021\"\n",
    "\n",
    "!git push origin main"
   ]
  },
  {
   "cell_type": "code",
   "execution_count": null,
   "metadata": {},
   "outputs": [],
   "source": []
  }
 ],
 "metadata": {
  "kernelspec": {
   "display_name": "Python [conda env:cv] *",
   "language": "python",
   "name": "conda-env-cv-py"
  },
  "language_info": {
   "codemirror_mode": {
    "name": "ipython",
    "version": 3
   },
   "file_extension": ".py",
   "mimetype": "text/x-python",
   "name": "python",
   "nbconvert_exporter": "python",
   "pygments_lexer": "ipython3",
   "version": "3.8.5"
  }
 },
 "nbformat": 4,
 "nbformat_minor": 4
}
