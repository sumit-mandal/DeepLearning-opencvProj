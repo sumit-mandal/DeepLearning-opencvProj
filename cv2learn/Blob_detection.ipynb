{
 "cells": [
  {
   "cell_type": "code",
   "execution_count": null,
   "metadata": {},
   "outputs": [],
   "source": [
    "import cv2\n",
    "import numpy as np;\n",
    " \n",
    "# Read image\n",
    "image = cv2.imread(\"images/Sunflowers.jpg\")\n",
    " \n",
    "# Set up the detector with default parameters.\n",
    "detector = cv2.SimpleBlobDetector()\n",
    " \n",
    "# Detect blobs.\n",
    "keypoints = detector.detect(image)\n",
    "\n",
    "#draw detected blobs as red circles\n",
    "# cv2.DRAW_MATCHES_FLAGS_DRAW_RICH_KEYPOINTS ensures the size of circles corresponds to the size of the blob\n",
    "\n",
    "blank = np.zeros((1,1)) \n",
    "\n",
    "blobs = cv2.drawKeypoints(image, keypoints, blank, (0,255,255),\n",
    "                                      cv2.DRAW_MATCHES_FLAGS_DEFAULT)\n",
    " \n",
    "\n",
    "#show keyPoints\n",
    "cv2.imshow(\"Blobs\", blobs)\n",
    "cv2.waitKey(0)\n",
    "cv2.destroyAllWindows()"
   ]
  },
  {
   "cell_type": "markdown",
   "metadata": {},
   "source": [
    "\n",
    "The function cv2.drawKeypoints takes the following arguments:\n",
    "\n",
    "cv2.drawKeypoints(input image, keypoints, blank_output_array, color, flags)\n",
    "\n",
    "flags:\n",
    "\n",
    "cv2.DRAW_MATCHES_FLAGS_DEFAULT\n",
    "cv2.DRAW_MATCHES_FLAGS_DRAW_RICH_KEYPOINTS\n",
    "cv2.DRAW_MATCHES_FLAGS_DRAW_OVER_OUTIMG\n",
    "cv2.DRAW_MATCHES_FLAGS_NOT_DRAW_SINGLE_POINTS"
   ]
  },
  {
   "cell_type": "code",
   "execution_count": null,
   "metadata": {},
   "outputs": [],
   "source": [
    "!git add Blob_detection.ipynb\n",
    "!git commit -m \"10:34/25-04-2021\"\n",
    "!git push origin main"
   ]
  }
 ],
 "metadata": {
  "kernelspec": {
   "display_name": "Python [conda env:cv] *",
   "language": "python",
   "name": "conda-env-cv-py"
  },
  "language_info": {
   "codemirror_mode": {
    "name": "ipython",
    "version": 3
   },
   "file_extension": ".py",
   "mimetype": "text/x-python",
   "name": "python",
   "nbconvert_exporter": "python",
   "pygments_lexer": "ipython3",
   "version": "3.8.5"
  }
 },
 "nbformat": 4,
 "nbformat_minor": 4
}
