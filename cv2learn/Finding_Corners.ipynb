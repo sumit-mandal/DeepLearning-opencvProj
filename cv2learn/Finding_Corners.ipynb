{
 "cells": [
  {
   "cell_type": "markdown",
   "metadata": {},
   "source": [
    "### cv2.cornerHarris(input image, block size, ksize, k)\n",
    "\n",
    "##### Input image - should be grayscale and float32 type.\n",
    "##### blockSize - the size of neighborhood considered for corner detection\n",
    "##### ksize - aperture parameter of Sobel derivative used.\n",
    "##### k - harris detector free parameter in the equation\n",
    "##### Output – array of corner locations (x,y)"
   ]
  },
  {
   "cell_type": "code",
   "execution_count": 1,
   "metadata": {},
   "outputs": [],
   "source": [
    "import cv2 \n",
    "import numpy as np\n",
    "\n",
    "#Load image then grayscale\n",
    "image = cv2.imread('images/chess.jpg')\n",
    "gray = cv2.cvtColor(image,cv2.COLOR_BGR2GRAY) \n",
    "\n",
    "cv2.imshow(\"grayed image\",gray)\n",
    "cv2.waitKey()\n",
    "\n",
    "# The cornerHarris function requires the array datatype to be float32\n",
    "gray = np.float32(gray)\n",
    "\n",
    "harris_corners = cv2.cornerHarris(gray,3,3,0.05)\n",
    "\n",
    "#we use dialation of the corner points to enlarge them\n",
    "kernel = np.ones((7,7),np.uint8)\n",
    "harris_corners = cv2.dilate(harris_corners,kernel,iterations = 2)\n",
    "\n",
    "# Threshold for an optimal value, it may vary depending on the image.\n",
    "image[harris_corners> 0.0025 * harris_corners.max()] = [255,127,127]\n",
    "\n",
    "\n",
    "cv2.imshow('Harris Corners', image)\n",
    "cv2.waitKey(0)\n",
    "cv2.destroyAllWindows()"
   ]
  },
  {
   "cell_type": "markdown",
   "metadata": {},
   "source": [
    "\n",
    "## Improved Corner Detection using - Good Features to Track"
   ]
  },
  {
   "cell_type": "code",
   "execution_count": 5,
   "metadata": {},
   "outputs": [],
   "source": [
    "import cv2\n",
    "import numpy as np\n",
    "\n",
    "img = cv2.imread('images/chess.jpg')\n",
    "gray = cv2.cvtColor(img,cv2.COLOR_BGR2GRAY)\n",
    "\n",
    "cv2.imshow(\"2-grayed image\",gray)\n",
    "cv2.waitKey()\n",
    "\n",
    "#we specify the best-100 corners\n",
    "corners = cv2.goodFeaturesToTrack(gray,100,0.01,10)\n",
    "\n",
    "#bounding rectangle\n",
    "for corner in corners:\n",
    "    x,y = corner[0]\n",
    "    x = int(x)\n",
    "    y = int(y)\n",
    "    cv2.rectangle(img,(x-10,y-10),(x+10,y+10),(0,255,0),2)\n",
    "    #this addition and subtraction is done for forming the rectangle  larger the size of corners\n",
    "    \n",
    "cv2.imshow(\"Corners Found\",img)\n",
    "cv2.waitKey(0)\n",
    "cv2.destroyAllWindows()"
   ]
  },
  {
   "cell_type": "markdown",
   "metadata": {},
   "source": [
    "### cv2.goodFeaturesToTrack(input image, maxCorners, qualityLevel, minDistance)\n",
    "\n",
    "#### Input Image - 8-bit or floating-point 32-bit, single-channel image.\n",
    "#### maxCorners – Maximum number of corners to return. If there are more corners than are found, the strongest of them is returned.\n",
    "#### qualityLevel – Parameter characterizing the minimal accepted quality of image corners. The parameter value is multiplied by the best corner quality measure (smallest eigenvalue). The corners with the quality measure less than the product are rejected. For example, if the best corner has the quality measure = 1500, and the qualityLevel=0.01 , then all the corners with the quality - - measure less than 15 are rejected.\n",
    "#### minDistance – Minimum possible Euclidean distance between the returned corners."
   ]
  },
  {
   "cell_type": "code",
   "execution_count": null,
   "metadata": {},
   "outputs": [],
   "source": [
    "!git add Finding_Corners.ipynb\n",
    "!git commit -m \"14:13/25-04-2021\"\n",
    "!git push origin main"
   ]
  }
 ],
 "metadata": {
  "kernelspec": {
   "display_name": "Python [conda env:cv] *",
   "language": "python",
   "name": "conda-env-cv-py"
  },
  "language_info": {
   "codemirror_mode": {
    "name": "ipython",
    "version": 3
   },
   "file_extension": ".py",
   "mimetype": "text/x-python",
   "name": "python",
   "nbconvert_exporter": "python",
   "pygments_lexer": "ipython3",
   "version": "3.8.5"
  }
 },
 "nbformat": 4,
 "nbformat_minor": 4
}
