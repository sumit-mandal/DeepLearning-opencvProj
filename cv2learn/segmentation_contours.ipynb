{
 "cells": [
  {
   "cell_type": "code",
   "execution_count": 8,
   "id": "3e692223-eb0a-4fee-b8e0-ef31f5268694",
   "metadata": {},
   "outputs": [
    {
     "name": "stdout",
     "output_type": "stream",
     "text": [
      "No of contours found = 3\n"
     ]
    }
   ],
   "source": [
    "import cv2\n",
    "import numpy as np\n",
    "\n",
    "#let's load a simple image with 3 black square\n",
    "image = cv2.imread('images/shapes_donut.jpg')\n",
    "cv2.imshow('Input Image',image)\n",
    "cv2.waitKey(0)\n",
    "\n",
    "#grayscale\n",
    "gray = cv2.cvtColor(image,cv2.COLOR_BGR2GRAY) \n",
    "\n",
    "#Find canny edges\n",
    "edged = cv2.Canny(image,30,200)\n",
    "cv2.imshow('Canny Edges',edged)\n",
    "cv2.waitKey(0) \n",
    "\n",
    "#Finding Contours\n",
    "# Use a copy of your image e.g. edged.copy(), since findContours alters the image\n",
    "\n",
    "contours,hierarchy = cv2.findContours(edged,cv2.RETR_EXTERNAL,cv2.CHAIN_APPROX_NONE)\n",
    "#findContours(image, mode, method[, contours[, hierarchy[, offset]]])\n",
    "cv2.imshow('Canny edges after contouring',edged) \n",
    "cv2.waitKey(0)\n",
    "print(\"No of contours found = \"  +str(len(contours)))\n",
    "\n",
    "#Draw all contours\n",
    "# Use '-1' as the 3rd parameter to draw all\n",
    "cv2.drawContours(image,contours,-1,(0,255,0),3)\n",
    "\n",
    "#drawContours(image, contours, contourIdx, color[, thickness[, lineType[, hierarchy[, maxLevel[, offset]]]]])\n",
    "\n",
    "cv2.imshow('Contours', image)\n",
    "cv2.waitKey(0)\n",
    "cv2.destroyAllWindows()"
   ]
  },
  {
   "cell_type": "code",
   "execution_count": 9,
   "id": "cfcc1ee8-54fc-4573-ad28-1ecbea2d4e03",
   "metadata": {},
   "outputs": [
    {
     "name": "stdout",
     "output_type": "stream",
     "text": [
      "[array([[[368, 157]],\n",
      "\n",
      "       [[367, 158]],\n",
      "\n",
      "       [[366, 159]],\n",
      "\n",
      "       ...,\n",
      "\n",
      "       [[371, 157]],\n",
      "\n",
      "       [[370, 157]],\n",
      "\n",
      "       [[369, 157]]], dtype=int32), array([[[520,  63]],\n",
      "\n",
      "       [[519,  64]],\n",
      "\n",
      "       [[518,  65]],\n",
      "\n",
      "       ...,\n",
      "\n",
      "       [[523,  63]],\n",
      "\n",
      "       [[522,  63]],\n",
      "\n",
      "       [[521,  63]]], dtype=int32), array([[[16, 19]],\n",
      "\n",
      "       [[15, 20]],\n",
      "\n",
      "       [[15, 21]],\n",
      "\n",
      "       ...,\n",
      "\n",
      "       [[19, 19]],\n",
      "\n",
      "       [[18, 19]],\n",
      "\n",
      "       [[17, 19]]], dtype=int32)]\n"
     ]
    }
   ],
   "source": [
    "print(contours)"
   ]
  },
  {
   "cell_type": "code",
   "execution_count": null,
   "id": "1f941040-ae49-4449-843a-4c2a10487d9b",
   "metadata": {},
   "outputs": [],
   "source": [
    "!git add segmentation_contours.ipynb\n",
    "!git commit -m \"22:11/23-04-2021\"\n",
    "!git push origin main"
   ]
  }
 ],
 "metadata": {
  "kernelspec": {
   "display_name": "Python [conda env:cv]",
   "language": "python",
   "name": "conda-env-cv-py"
  },
  "language_info": {
   "codemirror_mode": {
    "name": "ipython",
    "version": 3
   },
   "file_extension": ".py",
   "mimetype": "text/x-python",
   "name": "python",
   "nbconvert_exporter": "python",
   "pygments_lexer": "ipython3",
   "version": "3.8.5"
  }
 },
 "nbformat": 4,
 "nbformat_minor": 5
}
