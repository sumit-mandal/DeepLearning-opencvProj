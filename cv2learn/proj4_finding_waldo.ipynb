{
 "cells": [
  {
   "cell_type": "markdown",
   "metadata": {},
   "source": [
    "# Mini project fidning waldo "
   ]
  },
  {
   "cell_type": "code",
   "execution_count": 11,
   "metadata": {},
   "outputs": [],
   "source": [
    "import cv2\n",
    "import numpy as np\n",
    "\n",
    "#load input image and convert to grayscale\n",
    "image = cv2.imread('images/WaldoBeach.jpg')\n",
    "cv2.imshow('Where is waldo?',image)\n",
    "cv2.waitKey()\n",
    "gray = cv2.cvtColor(image,cv2.COLOR_BGR2GRAY)\n",
    "cv2.imshow('gray?',gray)\n",
    "cv2.waitKey()\n",
    "\n",
    "#load template image\n",
    "template = cv2.imread('images/waldo.jpg',0)\n",
    "cv2.imshow(\"identify thiis\",template)\n",
    "cv2.waitKey()\n",
    "\n",
    "result = cv2.matchTemplate(gray,template,cv2.TM_CCOEFF)\n",
    "min_val,max_val,min_loc,max_loc = cv2.minMaxLoc(result)\n",
    "\n",
    "\n",
    "#create bounding box when the match is found\n",
    "top_left = max_loc\n",
    "bottom_right = (top_left[0]+50,top_left[1] + 50) #+50 means size of box will be 50 pixels bigger than the match\n",
    "cv2.rectangle(image,top_left,bottom_right,(0,0,255),5)\n",
    "\n",
    "cv2.imshow('here is waldo',image)\n",
    "cv2.waitKey(0)\n",
    "\n",
    "\n",
    "\n",
    "cv2.destroyAllWindows()"
   ]
  },
  {
   "cell_type": "code",
   "execution_count": null,
   "metadata": {},
   "outputs": [],
   "source": [
    "!git add proj4_finding_waldo.ipynb\n",
    "!git commit -m \"12:01/25-04-21\"\n",
    "!git push origin main"
   ]
  }
 ],
 "metadata": {
  "kernelspec": {
   "display_name": "Python [conda env:cv] *",
   "language": "python",
   "name": "conda-env-cv-py"
  },
  "language_info": {
   "codemirror_mode": {
    "name": "ipython",
    "version": 3
   },
   "file_extension": ".py",
   "mimetype": "text/x-python",
   "name": "python",
   "nbconvert_exporter": "python",
   "pygments_lexer": "ipython3",
   "version": "3.8.5"
  }
 },
 "nbformat": 4,
 "nbformat_minor": 4
}
