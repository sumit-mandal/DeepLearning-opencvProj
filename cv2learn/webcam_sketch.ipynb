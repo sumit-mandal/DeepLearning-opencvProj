{
 "cells": [
  {
   "cell_type": "markdown",
   "metadata": {},
   "source": [
    "### MiniProject 1: webcam app"
   ]
  },
  {
   "cell_type": "code",
   "execution_count": 13,
   "metadata": {},
   "outputs": [],
   "source": [
    "import cv2\n",
    "import numpy as np\n",
    "\n",
    "#our sketch generating function\n",
    "def sketch(image):\n",
    "    #converting our image to grayscale\n",
    "    img_gray = cv2.cvtColor(image,cv2.COLOR_BGR2GRAY)\n",
    "    \n",
    "    #cleaning up image using gaussian blur\n",
    "    img_gray_blur = cv2.GaussianBlur(img_gray,(5,5),0)\n",
    "    \n",
    "    #Extract edges\n",
    "    canny_edges = cv2.Canny(img_gray_blur,35,30)\n",
    "    \n",
    "    #Do an invert binarize the image\n",
    "    ret,mask = cv2.threshold(canny_edges,70,255,cv2.THRESH_BINARY_INV)\n",
    "    return mask\n",
    "    \n",
    "\n",
    "    \n",
    "# Initialize webcam, cap is the object provided by VideoCapture\n",
    "# It contains a boolean indicating if it was sucessful (ret)\n",
    "# It also contains the images collected from the webcam (frame)\n",
    "    \n",
    "cap = cv2.VideoCapture(0)\n",
    "\n",
    "while True:\n",
    "    ret,frame = cap.read()\n",
    "    cv2.imshow('Our live Sketcher',sketch(frame))\n",
    "    \n",
    "    if cv2.waitKey(1) == 13: #13 means enter keyy\n",
    "        break\n",
    "        \n",
    "#ret is basically booleann that defines true or false\n",
    "        \n",
    "#Release camera nad close windows\n",
    "cap.release() \n",
    "cv2.destroyAllWindows()\n",
    "    \n",
    "    \n",
    "\n",
    "\n",
    "    "
   ]
  },
  {
   "cell_type": "markdown",
   "metadata": {},
   "source": [
    "##### Frame variable takes input from cap(which uses our webcam to capture image) then frame is passed to sketch. sketch is also our def function then all the preprocessing are done there."
   ]
  },
  {
   "cell_type": "code",
   "execution_count": null,
   "metadata": {},
   "outputs": [],
   "source": [
    "!git add webcam_sketch.ipynb\n",
    "\n",
    "!git commit -m \"19:13/23-04-2021\"\n",
    "\n",
    "!git push origin main"
   ]
  }
 ],
 "metadata": {
  "kernelspec": {
   "display_name": "Python [conda env:cv] *",
   "language": "python",
   "name": "conda-env-cv-py"
  },
  "language_info": {
   "codemirror_mode": {
    "name": "ipython",
    "version": 3
   },
   "file_extension": ".py",
   "mimetype": "text/x-python",
   "name": "python",
   "nbconvert_exporter": "python",
   "pygments_lexer": "ipython3",
   "version": "3.8.5"
  }
 },
 "nbformat": 4,
 "nbformat_minor": 4
}
