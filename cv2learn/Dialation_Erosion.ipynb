{
 "cells": [
  {
   "cell_type": "markdown",
   "metadata": {},
   "source": [
    "# Dilation and Erosion\n",
    "\n",
    "#### Erosion - adding of pixels\n",
    "#### dilation - removal of pixel\n",
    "#### closing - Dilation followed by erosion\n",
    "#### opening - erosion followed by dilation"
   ]
  },
  {
   "cell_type": "code",
   "execution_count": 2,
   "metadata": {},
   "outputs": [],
   "source": [
    "import cv2\n",
    "import numpy as np\n",
    "\n",
    "image = cv2.imread('images/opencv_inv.png',0) \n",
    "\n",
    "cv2.imshow('ooriginal',image)\n",
    "cv2.waitKey(0)\n",
    "\n",
    "#Defining our kernel size\n",
    "kernel = np.ones((5,5),np.uint8)\n",
    "\n",
    "#Now we erode\n",
    "erosion = cv2.erode(image,kernel,iterations=1)\n",
    "cv2.imshow('Erosion',erosion)\n",
    "cv2.waitKey()\n",
    "\n",
    "#dialation\n",
    "dilation = cv2.dilate(image,kernel,iterations=1)\n",
    "cv2.imshow('Dilation',dilation)\n",
    "cv2.waitKey()\n",
    "\n",
    "#opening- Good for removing noise\n",
    "opening = cv2.morphologyEx(image,cv2.MORPH_OPEN,kernel)\n",
    "cv2.imshow('Opening',opening)\n",
    "cv2.waitKey(0)\n",
    "\n",
    "#closing - Good for removing noise\n",
    "closing = cv2.morphologyEx(image,cv2.MORPH_CLOSE,kernel)\n",
    "cv2.imshow('Closing',closing)\n",
    "cv2.waitKey(0)\n",
    "\n",
    "cv2.destroyAllWindows()"
   ]
  },
  {
   "cell_type": "code",
   "execution_count": null,
   "metadata": {},
   "outputs": [],
   "source": [
    "!git add Dialation_Erosion.ipynb\n",
    "\n",
    "!git commit -m \"17:38/23-04-2021\"\n",
    "\n",
    "!git push origin main"
   ]
  }
 ],
 "metadata": {
  "kernelspec": {
   "display_name": "Python [conda env:cv] *",
   "language": "python",
   "name": "conda-env-cv-py"
  },
  "language_info": {
   "codemirror_mode": {
    "name": "ipython",
    "version": 3
   },
   "file_extension": ".py",
   "mimetype": "text/x-python",
   "name": "python",
   "nbconvert_exporter": "python",
   "pygments_lexer": "ipython3",
   "version": "3.8.5"
  }
 },
 "nbformat": 4,
 "nbformat_minor": 4
}
