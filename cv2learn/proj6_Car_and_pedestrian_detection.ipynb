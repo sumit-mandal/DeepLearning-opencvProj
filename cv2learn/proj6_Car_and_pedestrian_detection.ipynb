{
 "cells": [
  {
   "cell_type": "markdown",
   "metadata": {},
   "source": [
    "# Car and pedestrian detection\n",
    "\n",
    "If no video loads after running code, you may need to copy your opencv_ffmpeg.dll\n",
    "From: C:\\ssf\\sfbsf\\ffmpeg\n",
    "To: Where your python is installed e.g. C:\\user\\sumit\\Anaconda\\ \n",
    "Once it's copied you'll need to rename the file according to the version of OpenCV you're using.\n",
    "e.g. if you're using OpenCV 2.4.13 then rename the file as:\n",
    "opencv_ffmpeg2413_64.dll or opencv_ffmpeg2413.dll (if you're using an X86 machine)\n",
    "opencv_ffmpeg310_64.dll or opencv_ffmpeg310.dll (if you're using an X86 machine)\n"
   ]
  },
  {
   "cell_type": "code",
   "execution_count": 3,
   "metadata": {},
   "outputs": [
    {
     "name": "stdout",
     "output_type": "stream",
     "text": [
      "C:\\Users\\Sumit\\anaconda3\\envs\\cv\\python.exe\n"
     ]
    }
   ],
   "source": [
    "\n",
    "import sys\n",
    "print(sys.executable)\n",
    "\n",
    "#python is installed here"
   ]
  },
  {
   "cell_type": "markdown",
   "metadata": {},
   "source": [
    "### pedestrian detection"
   ]
  },
  {
   "cell_type": "code",
   "execution_count": 11,
   "metadata": {},
   "outputs": [],
   "source": [
    "import cv2\n",
    "import numpy as np\n",
    "\n",
    "#create our body classifier\n",
    "body_classifier = cv2.CascadeClassifier('Haarcascades\\haarcascade_fullbody.xml')\n",
    "\n",
    "#initiate video capture for video file\n",
    "cap = cv2.VideoCapture('images/walking.avi')\n",
    "\n",
    "#Loop once video is succesfully loaded\n",
    "while cap.isOpened():\n",
    "    \n",
    "    #read first frame\n",
    "    ret,frame = cap.read()\n",
    "    frame = cv2.resize(frame,None, fx=0.5,fy=0.5,interpolation = cv2.INTER_LINEAR) #fx and fy are used to reduce the size\n",
    "    \n",
    "    gray = cv2.cvtColor(frame,cv2.COLOR_BGR2GRAY)\n",
    "    # pass frame to our body classifier\n",
    "    bodies = body_classifier.detectMultiScale(gray,1.2,3)\n",
    "    #The body_classifier.detectMultiScale, extracts bounding boxes of any bodies identified. \n",
    "    \n",
    "    #extract bounding boxes for any bosies identified\n",
    "    for (x,y,w,h) in bodies:\n",
    "        cv2.rectangle(frame,(x,y),(x+w,y+h),(0,255,255),2)\n",
    "        cv2.imshow('pedestrians',frame)\n",
    "        \n",
    "    if cv2.waitKey(1) == 13: #13 is enter key\n",
    "        break\n",
    "        \n",
    "cap.release()\n",
    "cv2.destroyAllWindows()"
   ]
  },
  {
   "cell_type": "markdown",
   "metadata": {},
   "source": [
    "### Car detection"
   ]
  },
  {
   "cell_type": "code",
   "execution_count": 12,
   "metadata": {},
   "outputs": [],
   "source": [
    "import cv2\n",
    "import time\n",
    "import numpy as np\n",
    "\n",
    "# Create our body classifier\n",
    "car_classifier = cv2.CascadeClassifier('Haarcascades\\haarcascade_car.xml')\n",
    "\n",
    "# Initiate video capture for video file\n",
    "cap = cv2.VideoCapture('images/cars.avi')\n",
    "\n",
    "\n",
    "# Loop once video is successfully loaded\n",
    "while cap.isOpened():\n",
    "    \n",
    "    time.sleep(.05)\n",
    "    # Read first frame\n",
    "    ret, frame = cap.read()\n",
    "    gray = cv2.cvtColor(frame, cv2.COLOR_BGR2GRAY)\n",
    "   \n",
    "    # Pass frame to our car classifier\n",
    "    cars = car_classifier.detectMultiScale(gray, 1.4, 2)\n",
    "    \n",
    "    # Extract bounding boxes for any bodies identified\n",
    "    for (x,y,w,h) in cars:\n",
    "        cv2.rectangle(frame, (x, y), (x+w, y+h), (0, 255, 255), 2)\n",
    "        cv2.imshow('Cars', frame)\n",
    "\n",
    "    if cv2.waitKey(1) == 13: #13 is the Enter Key\n",
    "        break\n",
    "\n",
    "cap.release()\n",
    "cv2.destroyAllWindows()"
   ]
  },
  {
   "cell_type": "code",
   "execution_count": null,
   "metadata": {},
   "outputs": [],
   "source": [
    "!git add proj6_Car_and_pedestrian_detection.ipynb\n",
    "!git commit -m \"12:48/26-04-2021\"\n",
    "!git push origin main"
   ]
  }
 ],
 "metadata": {
  "kernelspec": {
   "display_name": "Python [conda env:cv] *",
   "language": "python",
   "name": "conda-env-cv-py"
  },
  "language_info": {
   "codemirror_mode": {
    "name": "ipython",
    "version": 3
   },
   "file_extension": ".py",
   "mimetype": "text/x-python",
   "name": "python",
   "nbconvert_exporter": "python",
   "pygments_lexer": "ipython3",
   "version": "3.8.5"
  }
 },
 "nbformat": 4,
 "nbformat_minor": 4
}
