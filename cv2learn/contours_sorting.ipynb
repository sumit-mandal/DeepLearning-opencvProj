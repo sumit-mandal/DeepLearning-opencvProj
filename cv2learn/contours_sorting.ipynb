{
 "cells": [
  {
   "cell_type": "markdown",
   "metadata": {},
   "source": [
    "# Sorting Contours"
   ]
  },
  {
   "cell_type": "code",
   "execution_count": null,
   "metadata": {},
   "outputs": [],
   "source": [
    "import cv2\n",
    "import numpy as np\n",
    "\n",
    "#Load our image\n",
    "\n",
    "image = cv2.imread('images/bunchofshapes.jpg')\n",
    "cv2.imshow('0-Original Image',image)\n",
    "cv2.waitKey(0)\n",
    "\n",
    "#create a black image with same dimmensions as our loaded image\n",
    "\n",
    "blank_image = np.zeros((image.shape[0],image.shape[1],3))\n",
    "cv2.imshow(\"Blank image\",blank_image)\n",
    "cv2.waitKey(0)\n",
    "\n",
    "#create a copy of our original image\n",
    "original_image = image\n",
    "\n",
    "#grayScale our image\n",
    "gray = cv2.cvtColor(image,cv2.COLOR_BGR2GRAY)\n",
    "\n",
    "#Find canny edges\n",
    "edged = cv2.Canny(gray,50,200)\n",
    "cv2.imshow('1-canny edges',edged)\n",
    "cv2.waitKey(0) \n",
    "\n",
    "#Find contours and print how many were found\n",
    "contours,hierarchy = cv2.findContours(edged.copy(),cv2.RETR_EXTERNAL,cv2.CHAIN_APPROX_NONE)\n",
    "print(\"Number of contours found  = \",len(contours))\n",
    "\n",
    "#Draw all Contours over blank image\n",
    "cv2.drawContours(blank_image,contours,-1,(0,255,0),3)\n",
    "cv2.imshow('2-All Contours over blank image',blank_image)\n",
    "cv2.waitKey(0)\n",
    "\n",
    "#Draw all contours over image\n",
    "cv2.drawContours(image,contours,-1,(0,255,0),3)\n",
    "cv2.imshow('3-All COntours',image)\n",
    "cv2.waitKey(0)\n",
    "\n",
    "cv2.destroyAllWindows()"
   ]
  },
  {
   "cell_type": "markdown",
   "metadata": {},
   "source": [
    "### Now sorting by area"
   ]
  },
  {
   "cell_type": "code",
   "execution_count": 17,
   "metadata": {},
   "outputs": [
    {
     "name": "stdout",
     "output_type": "stream",
     "text": [
      "Contor Areas before sorting [20587.5, 22901.5, 66579.5, 90222.0]\n",
      "Contor Areas after sorting [90222.0, 66579.5, 22901.5, 20587.5]\n"
     ]
    }
   ],
   "source": [
    "import cv2\n",
    "import numpy as np\n",
    "\n",
    "#Function we'll use to display area\n",
    "\n",
    "def get_contour_areas(contours):\n",
    "    #returns the area of all contours as list\n",
    "    all_areas = []\n",
    "    for cnt in contours:\n",
    "        area = cv2.contourArea(cnt)\n",
    "        all_areas.append(area)\n",
    "    return all_areas\n",
    "\n",
    "#Load oour images\n",
    "image = cv2.imread('images/bunchofshapes.jpg')\n",
    "original_image = image\n",
    "\n",
    "# Let's print the areas of the contours before sorting\n",
    "print(\"Contor Areas before sorting\", get_contour_areas(contours))\n",
    "\n",
    "#sort contours large to small\n",
    "sorted_contours = sorted(contours,key=cv2.contourArea,reverse = True)\n",
    "#sorted_contours = sorted(contours, key=cv2.contourArea, reverse=True)[:3]\n",
    "\n",
    "print(\"Contor Areas after sorting\", get_contour_areas(sorted_contours))\n",
    "\n",
    "#iterate over our contours and draw one at a time\n",
    "\n",
    "for c in sorted_contours:\n",
    "    cv2.drawContours(original_image,[c],-1,(255,0,0),3)\n",
    "    cv2.waitKey(0)\n",
    "    cv2.imshow('Contours by area',original_image)\n",
    "    \n",
    "    \n",
    "cv2.waitKey(0)\n",
    "cv2.destroyAllWindows()"
   ]
  },
  {
   "cell_type": "code",
   "execution_count": 19,
   "metadata": {},
   "outputs": [
    {
     "name": "stdout",
     "output_type": "stream",
     "text": [
      "output shape number 1.jpg\n",
      "output shape number 2.jpg\n",
      "output shape number 3.jpg\n",
      "output shape number 4.jpg\n"
     ]
    }
   ],
   "source": [
    "import cv2\n",
    "import numpy as np\n",
    "\n",
    "#Functions we'll use for sorting by position\n",
    "\n",
    "def x_cord_contour(contours):\n",
    "    #returns the X coordinnate for the contour centroid\n",
    "    if cv2.contourArea(contours)>10:\n",
    "        M = cv2.moments(contours) #Moment takes the contour and returns centre points\n",
    "        return (int(M['m10']/M['m00']))\n",
    "    else:\n",
    "        pass\n",
    "    \n",
    "def label_contour_center(image,c):\n",
    "    #places a red circle  on the centres of contours\n",
    "    M = cv2.moments(c)\n",
    "    cx = int(M['m10']/M['m00'])\n",
    "    cy = int(M['m01']/M['m00']) #these are the centre of the mass of contour of x position and y poistion\n",
    "    \n",
    "    #draw the contour number on the image\n",
    "    cv2.circle(image,(cx,cy),10,(0,0,255),-1)\n",
    "    return image\n",
    "\n",
    "#Load our image\n",
    "image = cv2.imread('images/bunchofshapes.jpg')\n",
    "original_image = image.copy()\n",
    "\n",
    "#compute centroid and draw them on image\n",
    "\n",
    "for (i, c) in enumerate(contours):\n",
    "    orig = label_contour_center(image,c)\n",
    "    \n",
    "cv2.imshow(\"4-contour Centers\",orig)\n",
    "cv2.waitKey(0)\n",
    "\n",
    "#Sort by left to right using our x_cord_contour function\n",
    "contours_left_to_right = sorted(contours,key = x_cord_contour,reverse = False)\n",
    "\n",
    "# Labeling Contours left to right\n",
    "for (i,c) in enumerate(contours_left_to_right):\n",
    "    cv2.drawContours(original_image,[c],-1,(0,0,255),3)\n",
    "    M = cv2.moments(c)\n",
    "    cx = int(M['m10']/M['m00'])\n",
    "    cy = int(M['m01']/M['m00'])\n",
    "    cv2.putText(original_image,str(i+1),(cx,cy),cv2.FONT_HERSHEY_SIMPLEX,1,(0,255,0),2)\n",
    "    cv2.imshow('6-left to Right Contour',original_image)\n",
    "    cv2.waitKey(0)\n",
    "    (x,y,w,h) = cv2.boundingRect(c)  \n",
    "    \n",
    "    #Let's now crop each contour and save these images\n",
    "    cropped_contour = original_image[y:y+h,x:x+w]\n",
    "    image_name = \"output shape number \"+ str(i+1) + \".jpg\"\n",
    "    print(image_name)\n",
    "    cv2.imwrite(image_name,cropped_contour)\n",
    "    \n",
    "\n",
    "\n",
    "cv2.destroyAllWindows()\n",
    "        \n",
    "        "
   ]
  },
  {
   "cell_type": "code",
   "execution_count": 20,
   "metadata": {},
   "outputs": [
    {
     "name": "stdout",
     "output_type": "stream",
     "text": [
      "\n",
      " {'m00': 66579.5, 'm10': 85028799.16666666, 'm01': 26845687.166666664, 'm20': 108943070556.91666, 'm11': 34284686431.958332, 'm02': 11177394386.916666, 'm30': 140032111521960.56, 'm21': 43927230338982.85, 'm12': 14274669053677.85, 'm03': 4791441150778.55, 'mu20': 352638250.7964325, 'mu11': 11080.150943756104, 'mu02': 352877539.38054466, 'mu30': 10334733.71875, 'mu21': -6654550.243469238, 'mu12': -10351248.535644531, 'mu03': 6653518.4755859375, 'nu20': 0.07955149759765526, 'nu11': 2.4995660544286834e-06, 'nu02': 0.07960547859711052, 'nu30': 9.035412153061818e-06, 'nu21': -5.817915176074302e-06, 'nu12': -9.049850665106275e-06, 'nu03': 5.8170131259271365e-06}\n",
      "\n",
      " cx is \n",
      " 1277\n",
      "cy is \n",
      " 403\n"
     ]
    }
   ],
   "source": [
    "print(\"\\n\",M)\n",
    "print(\"\\n cx is \\n\",cx)\n",
    "print(\"cy is \\n\",cy)"
   ]
  },
  {
   "cell_type": "code",
   "execution_count": null,
   "metadata": {},
   "outputs": [],
   "source": [
    "!git add contours_sorting.ipynb\n",
    "!git commit -m \"12:46/24-04-2021\"\n",
    "!git push origin main"
   ]
  },
  {
   "cell_type": "code",
   "execution_count": null,
   "metadata": {},
   "outputs": [],
   "source": []
  }
 ],
 "metadata": {
  "kernelspec": {
   "display_name": "Python [conda env:cv] *",
   "language": "python",
   "name": "conda-env-cv-py"
  },
  "language_info": {
   "codemirror_mode": {
    "name": "ipython",
    "version": 3
   },
   "file_extension": ".py",
   "mimetype": "text/x-python",
   "name": "python",
   "nbconvert_exporter": "python",
   "pygments_lexer": "ipython3",
   "version": "3.8.5"
  }
 },
 "nbformat": 4,
 "nbformat_minor": 4
}
