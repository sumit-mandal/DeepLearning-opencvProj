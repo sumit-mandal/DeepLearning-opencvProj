{
 "cells": [
  {
   "cell_type": "code",
   "execution_count": 3,
   "metadata": {},
   "outputs": [],
   "source": [
    "import cv2\n",
    "import numpy as np\n",
    "  \n",
    "# Load image\n",
    "image = cv2.imread('images/blobs.jpg', 0)\n",
    "\n",
    "cv2.imshow(\"image is\",image)\n",
    "cv2.waitKey()\n",
    "\n",
    "#initialise the detector\n",
    "detector = cv2.SimpleBlobDetector_create()\n",
    "\n",
    "#detect blobs\n",
    "keypoints = detector.detect(image)\n",
    "\n",
    "#Draw blobs on image as red circles\n",
    "\n",
    "blank = np.zeros((1,1))\n",
    "blobs = cv2.drawKeypoints(image,keypoints,blank,(0,0,255),cv2.DRAW_MATCHES_FLAGS_DRAW_RICH_KEYPOINTS)\n",
    "\n",
    "number_of_blobs = len(keypoints)\n",
    "text = \"Total number of blobs\" + str(len(keypoints))\n",
    "cv2.putText(blobs,text,(20,550), cv2.FONT_HERSHEY_SIMPLEX,1,(100,0,255),2) \n",
    "\n",
    "#display image with blob keypoints\n",
    "cv2.imshow(\"Blobs using default parameters\",blobs)\n",
    "cv2.waitKey(0)\n",
    "\n",
    "\n",
    "#set our filtering parrameters\n",
    "#initialise parameter seting using cv2.simpleBlobDetector\n",
    "params = cv2.SimpleBlobDetector_Params()\n",
    "\n",
    "#set area filtering parammetes\n",
    "params.filterByArea = True\n",
    "params.minArea = 100\n",
    "\n",
    "#set circularity filtering parametes\n",
    "params.filterByCircularity = True\n",
    "params.minCircularity = 0.9\n",
    "\n",
    "#set convex filtering parameters\n",
    "params.filterByConvexity = True\n",
    "params.minConvexity = 0.2\n",
    "\n",
    "#set inertia filtering parameters\n",
    "params.filterByInertia = True\n",
    "params.minInertiaRatio = 0.01\n",
    "\n",
    "#create a detector with the parameters\n",
    "detector = cv2.SimpleBlobDetector_create(params)\n",
    "\n",
    "#detect blobs\n",
    "keypoints = detector.detect(image)\n",
    "\n",
    "#Draw blobs onn our image as red circles\n",
    "blank = np.zeros((1,1))\n",
    "blobs = cv2.drawKeypoints(image,keypoints,blank,(0,0,255),\n",
    "                         cv2.DRAW_MATCHES_FLAGS_DRAW_RICH_KEYPOINTS)\n",
    "\n",
    "number_of_blobs = len(keypoints)\n",
    "text = \"Number of circular Blobs:\" + str(len(keypoints))\n",
    "cv2.putText(blobs,text,(20,550),cv2.FONT_HERSHEY_SIMPLEX,1,(0,100,255),2)\n",
    "\n",
    "#show blobs\n",
    "cv2.imshow(\"Filtering Circular Blobs Only\",blobs)\n",
    "cv2.waitKey(0)\n",
    "cv2.destroyAllWindows()"
   ]
  },
  {
   "cell_type": "code",
   "execution_count": null,
   "metadata": {},
   "outputs": [],
   "source": [
    "!git add  Proj3_CountingCircles.ipynb\n",
    "!git commit -m \"11:35/25-04-2021\"\n",
    "!git push origin main"
   ]
  },
  {
   "cell_type": "code",
   "execution_count": 2,
   "metadata": {},
   "outputs": [],
   "source": []
  },
  {
   "cell_type": "code",
   "execution_count": null,
   "metadata": {},
   "outputs": [],
   "source": []
  }
 ],
 "metadata": {
  "kernelspec": {
   "display_name": "Python [conda env:cv] *",
   "language": "python",
   "name": "conda-env-cv-py"
  },
  "language_info": {
   "codemirror_mode": {
    "name": "ipython",
    "version": 3
   },
   "file_extension": ".py",
   "mimetype": "text/x-python",
   "name": "python",
   "nbconvert_exporter": "python",
   "pygments_lexer": "ipython3",
   "version": "3.8.5"
  }
 },
 "nbformat": 4,
 "nbformat_minor": 4
}
