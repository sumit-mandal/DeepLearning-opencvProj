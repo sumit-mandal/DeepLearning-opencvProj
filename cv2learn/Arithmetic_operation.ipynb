{
 "cells": [
  {
   "cell_type": "markdown",
   "metadata": {},
   "source": [
    "# Arithmetic Operations\n",
    "These are simple operations that allow us to directly add or subract to the color intensity.\n",
    "\n",
    "Calculates the per-element operation of two arrays. The overall effect is increasing or decreasing brightness."
   ]
  },
  {
   "cell_type": "code",
   "execution_count": 15,
   "metadata": {},
   "outputs": [],
   "source": [
    "import cv2\n",
    "import numpy as np\n",
    "\n",
    "image = cv2.imread('images/input.jpg')\n",
    "\n",
    "# Create a matrix of ones, then multiply it by a scaler of 75\n",
    "# This gives a matrix with same dimesions of our image with all values being 75\n",
    "\n",
    "M = np.ones(image.shape,dtype = \"uint8\")*75\n",
    "\n",
    "# ones and image shoud have same size inorder to add or subtract\n",
    "\n",
    "# We use this to add this matrix M, to our image\n",
    "# Notice the increase in brightness\n",
    "added = cv2.add(image,M)\n",
    "cv2.imshow('added',added)\n",
    "\n",
    "# Likewise we can also subtract\n",
    "# Notice the decrease in brightness\n",
    "subtracted = cv2.subtract(image,M)  \n",
    "cv2.imshow(\"Subtracted\", subtracted)\n",
    "\n",
    "cv2.waitKey(0)\n",
    "cv2.destroyAllWindows()"
   ]
  },
  {
   "cell_type": "code",
   "execution_count": 2,
   "metadata": {},
   "outputs": [
    {
     "data": {
      "text/plain": [
       "array([[[0.75, 0.75, 0.75],\n",
       "        [0.75, 0.75, 0.75],\n",
       "        [0.75, 0.75, 0.75],\n",
       "        ...,\n",
       "        [0.75, 0.75, 0.75],\n",
       "        [0.75, 0.75, 0.75],\n",
       "        [0.75, 0.75, 0.75]],\n",
       "\n",
       "       [[0.75, 0.75, 0.75],\n",
       "        [0.75, 0.75, 0.75],\n",
       "        [0.75, 0.75, 0.75],\n",
       "        ...,\n",
       "        [0.75, 0.75, 0.75],\n",
       "        [0.75, 0.75, 0.75],\n",
       "        [0.75, 0.75, 0.75]],\n",
       "\n",
       "       [[0.75, 0.75, 0.75],\n",
       "        [0.75, 0.75, 0.75],\n",
       "        [0.75, 0.75, 0.75],\n",
       "        ...,\n",
       "        [0.75, 0.75, 0.75],\n",
       "        [0.75, 0.75, 0.75],\n",
       "        [0.75, 0.75, 0.75]],\n",
       "\n",
       "       ...,\n",
       "\n",
       "       [[0.75, 0.75, 0.75],\n",
       "        [0.75, 0.75, 0.75],\n",
       "        [0.75, 0.75, 0.75],\n",
       "        ...,\n",
       "        [0.75, 0.75, 0.75],\n",
       "        [0.75, 0.75, 0.75],\n",
       "        [0.75, 0.75, 0.75]],\n",
       "\n",
       "       [[0.75, 0.75, 0.75],\n",
       "        [0.75, 0.75, 0.75],\n",
       "        [0.75, 0.75, 0.75],\n",
       "        ...,\n",
       "        [0.75, 0.75, 0.75],\n",
       "        [0.75, 0.75, 0.75],\n",
       "        [0.75, 0.75, 0.75]],\n",
       "\n",
       "       [[0.75, 0.75, 0.75],\n",
       "        [0.75, 0.75, 0.75],\n",
       "        [0.75, 0.75, 0.75],\n",
       "        ...,\n",
       "        [0.75, 0.75, 0.75],\n",
       "        [0.75, 0.75, 0.75],\n",
       "        [0.75, 0.75, 0.75]]])"
      ]
     },
     "execution_count": 2,
     "metadata": {},
     "output_type": "execute_result"
    }
   ],
   "source": [
    "M = np.ones(image.shape)*0.75\n",
    "M\n",
    "\n"
   ]
  },
  {
   "cell_type": "code",
   "execution_count": 7,
   "metadata": {},
   "outputs": [
    {
     "data": {
      "text/plain": [
       "array([[[1., 1., 1.],\n",
       "        [1., 1., 1.],\n",
       "        [1., 1., 1.],\n",
       "        ...,\n",
       "        [1., 1., 1.],\n",
       "        [1., 1., 1.],\n",
       "        [1., 1., 1.]],\n",
       "\n",
       "       [[1., 1., 1.],\n",
       "        [1., 1., 1.],\n",
       "        [1., 1., 1.],\n",
       "        ...,\n",
       "        [1., 1., 1.],\n",
       "        [1., 1., 1.],\n",
       "        [1., 1., 1.]],\n",
       "\n",
       "       [[1., 1., 1.],\n",
       "        [1., 1., 1.],\n",
       "        [1., 1., 1.],\n",
       "        ...,\n",
       "        [1., 1., 1.],\n",
       "        [1., 1., 1.],\n",
       "        [1., 1., 1.]],\n",
       "\n",
       "       ...,\n",
       "\n",
       "       [[1., 1., 1.],\n",
       "        [1., 1., 1.],\n",
       "        [1., 1., 1.],\n",
       "        ...,\n",
       "        [1., 1., 1.],\n",
       "        [1., 1., 1.],\n",
       "        [1., 1., 1.]],\n",
       "\n",
       "       [[1., 1., 1.],\n",
       "        [1., 1., 1.],\n",
       "        [1., 1., 1.],\n",
       "        ...,\n",
       "        [1., 1., 1.],\n",
       "        [1., 1., 1.],\n",
       "        [1., 1., 1.]],\n",
       "\n",
       "       [[1., 1., 1.],\n",
       "        [1., 1., 1.],\n",
       "        [1., 1., 1.],\n",
       "        ...,\n",
       "        [1., 1., 1.],\n",
       "        [1., 1., 1.],\n",
       "        [1., 1., 1.]]])"
      ]
     },
     "execution_count": 7,
     "metadata": {},
     "output_type": "execute_result"
    }
   ],
   "source": [
    "k = np.zeros(image.shape)+1\n",
    "k"
   ]
  },
  {
   "cell_type": "code",
   "execution_count": 16,
   "metadata": {},
   "outputs": [
    {
     "name": "stderr",
     "output_type": "stream",
     "text": [
      "warning: LF will be replaced by CRLF in cv2learn/cropping.ipynb.\n",
      "The file will have its original line endings in your working directory\n"
     ]
    },
    {
     "name": "stdout",
     "output_type": "stream",
     "text": [
      "[main d4e3d0c] 11:13/23-04-2021\n",
      " 1 file changed, 5 insertions(+), 6 deletions(-)\n"
     ]
    },
    {
     "name": "stderr",
     "output_type": "stream",
     "text": [
      "To https://github.com/sumit-mandal/OpenCVtut.git\n",
      "   9f35073..d4e3d0c  main -> main\n"
     ]
    }
   ],
   "source": [
    "!git add Arithmetic_operation.ipynb\n",
    "\n",
    "!git commit -m \"11:13/23-04-2021\"\n",
    "\n",
    "!git push origin main"
   ]
  },
  {
   "cell_type": "code",
   "execution_count": null,
   "metadata": {},
   "outputs": [],
   "source": []
  }
 ],
 "metadata": {
  "kernelspec": {
   "display_name": "Python [conda env:cv] *",
   "language": "python",
   "name": "conda-env-cv-py"
  },
  "language_info": {
   "codemirror_mode": {
    "name": "ipython",
    "version": 3
   },
   "file_extension": ".py",
   "mimetype": "text/x-python",
   "name": "python",
   "nbconvert_exporter": "python",
   "pygments_lexer": "ipython3",
   "version": "3.8.5"
  }
 },
 "nbformat": 4,
 "nbformat_minor": 4
}
