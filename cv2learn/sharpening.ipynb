{
 "cells": [
  {
   "cell_type": "markdown",
   "metadata": {},
   "source": [
    "# Sharpening\n",
    "\n",
    "By altering our kernels we can implement sharpening, which has the effects of in strengthening or emphasizing edges in an image."
   ]
  },
  {
   "cell_type": "code",
   "execution_count": 1,
   "metadata": {},
   "outputs": [],
   "source": [
    "import cv2\n",
    "import numpy as np\n",
    "\n",
    "image = cv2.imread('images/input.jpg')\n",
    "cv2.imshow('Original', image)\n",
    "\n",
    "# Create our shapening kernel, we don't normalize since the the values in the matrix sum to 1\n",
    "\n",
    "kernel_sharpening = np.array([[-1,-1,-1],\n",
    "                             [-1,9,-1],\n",
    "                              [-1,-1,-1]])\n",
    "\n",
    "#applying kernel to the input immage\n",
    "sharpened = cv2.filter2D(image,-1,kernel_sharpening) #-1 = depth\n",
    "\n",
    "cv2.imshow('Image Sharpening',sharpened)\n",
    "\n",
    "cv2.waitKey()\n",
    "cv2.destroyAllWindows()\n",
    "\n"
   ]
  },
  {
   "cell_type": "code",
   "execution_count": 4,
   "metadata": {},
   "outputs": [
    {
     "name": "stdout",
     "output_type": "stream",
     "text": [
      "On branch main\n",
      "Your branch is up to date with 'origin/main'.\n",
      "\n",
      "Changes not staged for commit:\n",
      "  (use \"git add <file>...\" to update what will be committed)\n",
      "  (use \"git restore <file>...\" to discard changes in working directory)\n",
      "\tmodified:   Arithmetic_operation.ipynb\n",
      "\tmodified:   Bitwise_operation.ipynb\n",
      "\tmodified:   Blurring.ipynb\n",
      "\tmodified:   COLOR_SPACING.ipynb\n",
      "\tmodified:   Drawing_images.ipynb\n",
      "\tmodified:   Grayscale.ipynb\n",
      "\tmodified:   Histogram.ipynb\n",
      "\tmodified:   Reading_writing_and_displaying_images.ipynb\n",
      "\tmodified:   Scaling_resizing.ipynb\n",
      "\tmodified:   cropping.ipynb\n",
      "\tmodified:   pyramid.ipynb\n",
      "\tmodified:   rotation.ipynb\n",
      "\tmodified:   translation.ipynb\n",
      "\n",
      "Untracked files:\n",
      "  (use \"git add <file>...\" to include in what will be committed)\n",
      "\t../.ipynb_checkpoints/\n",
      "\t../.virtual_documents/\n",
      "\t../Master OpenCV/\n",
      "\t../Untitled.ipynb\n",
      "\t.ipynb_checkpoints/\n",
      "\tsharpening.ipynb\n",
      "\t../kite_tutorial-checkpoint.ipynb\n",
      "\t../kite_tutorial.ipynb\n",
      "\n",
      "no changes added to commit (use \"git add\" and/or \"git commit -a\")\n"
     ]
    },
    {
     "name": "stderr",
     "output_type": "stream",
     "text": [
      "Everything up-to-date\n"
     ]
    }
   ],
   "source": [
    "!git add sharpening.ipynb\n",
    "\n",
    "!git commit -m \"12:32/23-04-2021\"\n",
    "\n",
    "!git push origin main"
   ]
  },
  {
   "cell_type": "code",
   "execution_count": null,
   "metadata": {},
   "outputs": [],
   "source": []
  }
 ],
 "metadata": {
  "kernelspec": {
   "display_name": "Python [conda env:cv] *",
   "language": "python",
   "name": "conda-env-cv-py"
  },
  "language_info": {
   "codemirror_mode": {
    "name": "ipython",
    "version": 3
   },
   "file_extension": ".py",
   "mimetype": "text/x-python",
   "name": "python",
   "nbconvert_exporter": "python",
   "pygments_lexer": "ipython3",
   "version": "3.8.5"
  }
 },
 "nbformat": 4,
 "nbformat_minor": 4
}
