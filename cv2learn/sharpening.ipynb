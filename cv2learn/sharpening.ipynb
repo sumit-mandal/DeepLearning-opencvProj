{
 "cells": [
  {
   "cell_type": "markdown",
   "metadata": {},
   "source": [
    "# Sharpening\n",
    "\n",
    "By altering our kernels we can implement sharpening, which has the effects of in strengthening or emphasizing edges in an image."
   ]
  },
  {
   "cell_type": "code",
   "execution_count": 1,
   "metadata": {},
   "outputs": [],
   "source": [
    "import cv2\n",
    "import numpy as np\n",
    "\n",
    "image = cv2.imread('images/input.jpg')\n",
    "cv2.imshow('Original', image)\n",
    "\n",
    "# Create our shapening kernel, we don't normalize since the the values in the matrix sum to 1\n",
    "\n",
    "kernel_sharpening = np.array([[-1,-1,-1],\n",
    "                             [-1,9,-1],\n",
    "                              [-1,-1,-1]])\n",
    "\n",
    "#applying kernel to the input immage\n",
    "sharpened = cv2.filter2D(image,-1,kernel_sharpening) #-1 = depth\n",
    "\n",
    "cv2.imshow('Image Sharpening',sharpened)\n",
    "\n",
    "cv2.waitKey()\n",
    "cv2.destroyAllWindows()\n",
    "\n"
   ]
  },
  {
   "cell_type": "code",
   "execution_count": 5,
   "metadata": {},
   "outputs": [
    {
     "name": "stderr",
     "output_type": "stream",
     "text": [
      "warning: LF will be replaced by CRLF in cv2learn/sharpening.ipynb.\n",
      "The file will have its original line endings in your working directory\n"
     ]
    },
    {
     "name": "stdout",
     "output_type": "stream",
     "text": [
      "[main 7ff630a] 12:32/23-04-2021\n",
      " 1 file changed, 128 insertions(+)\n",
      " create mode 100644 cv2learn/sharpening.ipynb\n"
     ]
    },
    {
     "name": "stderr",
     "output_type": "stream",
     "text": [
      "To https://github.com/sumit-mandal/OpenCVtut.git\n",
      "   d6eaa31..7ff630a  main -> main\n"
     ]
    }
   ],
   "source": [
    "!git add sharpening.ipynb\n",
    "\n",
    "!git commit -m \"12:32/23-04-2021\"\n",
    "\n",
    "!git push origin main"
   ]
  },
  {
   "cell_type": "code",
   "execution_count": null,
   "metadata": {},
   "outputs": [],
   "source": []
  }
 ],
 "metadata": {
  "kernelspec": {
   "display_name": "Python [conda env:cv] *",
   "language": "python",
   "name": "conda-env-cv-py"
  },
  "language_info": {
   "codemirror_mode": {
    "name": "ipython",
    "version": 3
   },
   "file_extension": ".py",
   "mimetype": "text/x-python",
   "name": "python",
   "nbconvert_exporter": "python",
   "pygments_lexer": "ipython3",
   "version": "3.8.5"
  }
 },
 "nbformat": 4,
 "nbformat_minor": 4
}
